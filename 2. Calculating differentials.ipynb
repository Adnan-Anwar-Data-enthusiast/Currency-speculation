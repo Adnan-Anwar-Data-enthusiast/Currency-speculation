{
 "cells": [
  {
   "cell_type": "code",
   "execution_count": 1,
   "id": "2f1bf711",
   "metadata": {},
   "outputs": [],
   "source": [
    "import pandas as pd"
   ]
  },
  {
   "cell_type": "code",
   "execution_count": 2,
   "id": "4772740c",
   "metadata": {},
   "outputs": [
    {
     "data": {
      "text/plain": [
       "'/workspaces/Currency-speculation'"
      ]
     },
     "execution_count": 2,
     "metadata": {},
     "output_type": "execute_result"
    }
   ],
   "source": [
    "import os\n",
    "os.getcwd()\n"
   ]
  },
  {
   "cell_type": "code",
   "execution_count": 3,
   "id": "3121dda0",
   "metadata": {},
   "outputs": [],
   "source": [
    "# Define the path to the Excel file\n",
    "xls = \"/workspaces/Currency-speculation/Three factor mode (1).xlsx\"\n",
    "\n",
    "\n",
    "Inflation_raw = pd.read_excel(xls, sheet_name='CPI')\n",
    "Interest_Raw = pd.read_excel(xls, sheet_name='Interest rate')\n",
    "Current_account_raw = pd.read_excel(xls, sheet_name='current account balance')\n",
    "\n",
    "\n",
    "\n"
   ]
  },
  {
   "cell_type": "code",
   "execution_count": 4,
   "id": "2536f350",
   "metadata": {},
   "outputs": [],
   "source": [
    "#dropping the first row\n",
    "Inflation_raw = Inflation_raw.drop(Inflation_raw.index[0])\n",
    "Interest_Raw = Interest_Raw.drop(Interest_Raw.index[0])\n",
    "Current_account_raw = Current_account_raw.drop(Current_account_raw.index[0])\n",
    "# Resetting the index\n",
    "Inflation_raw.reset_index(drop=True, inplace=True)\n",
    "Interest_Raw.reset_index(drop=True, inplace=True)\n",
    "Current_account_raw.reset_index(drop=True, inplace=True)\n"
   ]
  },
  {
   "cell_type": "code",
   "execution_count": 5,
   "id": "f65fd57c",
   "metadata": {},
   "outputs": [],
   "source": [
    "#changing the data type of the first column to date by indexing the first column\n",
    "Inflation_raw['Unnamed: 0'] = pd.to_datetime(Inflation_raw['Unnamed: 0'], format='%Y-%m')\n",
    "Interest_Raw['Unnamed: 0'] = pd.to_datetime(Interest_Raw['Unnamed: 0'], format='%Y-%m')\n",
    "Current_account_raw['Unnamed: 0'] = pd.to_datetime(Current_account_raw['Unnamed: 0'], format='%Y-%m')\n",
    "\n",
    "#renaming the first column to 'Date'\n",
    "Inflation_raw.rename(columns={'Unnamed: 0': 'Date'}, inplace=True)\n",
    "Interest_Raw.rename(columns={'Unnamed: 0': 'Date'}, inplace=True)\n",
    "Current_account_raw.rename(columns={'Unnamed: 0': 'Date'}, inplace=True)\n",
    "\n",
    "\n"
   ]
  },
  {
   "cell_type": "code",
   "execution_count": 6,
   "id": "f1f9a160",
   "metadata": {},
   "outputs": [],
   "source": [
    "#converting all the columns to numeric type\n",
    "def convert_to_numeric(df):\n",
    "    for col in df.columns[1:]:  # Skip the first column (Date)\n",
    "        df[col] = pd.to_numeric(df[col], errors='coerce')\n",
    "    return df\n",
    "Inflation_raw = convert_to_numeric(Inflation_raw)\n",
    "Interest_Raw = convert_to_numeric(Interest_Raw)\n",
    "Current_account_raw = convert_to_numeric(Current_account_raw)\n",
    "\n"
   ]
  },
  {
   "cell_type": "code",
   "execution_count": 7,
   "id": "f09fe6b0",
   "metadata": {},
   "outputs": [],
   "source": [
    "#Creating three empty dataframes to store the differentials\n",
    "Inflation_diff = pd.DataFrame()\n",
    "Interest_diff = pd.DataFrame()\n",
    "Current_account_diff = pd.DataFrame()\n"
   ]
  },
  {
   "cell_type": "code",
   "execution_count": 8,
   "id": "92b822b2",
   "metadata": {},
   "outputs": [],
   "source": [
    "#calculating the inflation differential\n",
    "Inflation_raw['USDJPY'] = Inflation_raw['US']-Inflation_raw['UK']\n"
   ]
  },
  {
   "cell_type": "code",
   "execution_count": 9,
   "id": "1a83d2fc",
   "metadata": {},
   "outputs": [
    {
     "data": {
      "application/vnd.microsoft.datawrangler.viewer.v0+json": {
       "columns": [
        {
         "name": "Date",
         "rawType": "datetime64[ns]",
         "type": "datetime"
        },
        {
         "name": "USIN",
         "rawType": "float64",
         "type": "float"
        },
        {
         "name": "USJPN",
         "rawType": "float64",
         "type": "float"
        },
        {
         "name": "USUK",
         "rawType": "float64",
         "type": "float"
        },
        {
         "name": "USEU",
         "rawType": "float64",
         "type": "float"
        },
        {
         "name": "USSZR",
         "rawType": "float64",
         "type": "float"
        }
       ],
       "ref": "10c9bbd6-884f-4ea8-b14f-8829bbadfccf",
       "rows": [
        [
         "2006-01-31 00:00:00",
         "-4.49",
         "-9.3",
         "-3.34",
         "-5.24",
         "-16.91"
        ],
        [
         "2006-02-28 00:00:00",
         "-4.49",
         "-9.3",
         "-3.34",
         "-5.24",
         "-16.91"
        ],
        [
         "2006-03-31 00:00:00",
         "-4.49",
         "-9.3",
         "-3.34",
         "-5.24",
         "-16.91"
        ],
        [
         "2006-04-28 00:00:00",
         "-4.49",
         "-9.3",
         "-3.34",
         "-5.24",
         "-16.91"
        ],
        [
         "2006-05-31 00:00:00",
         "-4.49",
         "-9.3",
         "-3.34",
         "-5.24",
         "-16.91"
        ],
        [
         "2006-06-30 00:00:00",
         "-4.68",
         "-9.379999999999999",
         "-2.8899999999999997",
         "-5.27",
         "-16.79"
        ],
        [
         "2006-07-31 00:00:00",
         "-4.68",
         "-9.379999999999999",
         "-2.8899999999999997",
         "-5.27",
         "-16.79"
        ],
        [
         "2006-08-31 00:00:00",
         "-4.68",
         "-9.379999999999999",
         "-2.8899999999999997",
         "-5.27",
         "-16.79"
        ],
        [
         "2006-09-29 00:00:00",
         "-4.69",
         "-9.67",
         "-2.9100000000000006",
         "-5.45",
         "-17.740000000000002"
        ],
        [
         "2006-10-31 00:00:00",
         "-4.69",
         "-9.67",
         "-2.9100000000000006",
         "-5.45",
         "-17.740000000000002"
        ],
        [
         "2006-11-30 00:00:00",
         "-4.69",
         "-9.67",
         "-2.9100000000000006",
         "-5.45",
         "-17.740000000000002"
        ],
        [
         "2006-12-29 00:00:00",
         "-4.68",
         "-9.54",
         "-2.62",
         "-5.5200000000000005",
         "-18.21"
        ],
        [
         "2007-01-31 00:00:00",
         "-4.68",
         "-9.54",
         "-2.62",
         "-5.5200000000000005",
         "-18.21"
        ],
        [
         "2007-02-28 00:00:00",
         "-4.68",
         "-9.54",
         "-2.62",
         "-5.5200000000000005",
         "-18.21"
        ],
        [
         "2007-03-30 00:00:00",
         "-4.619999999999999",
         "-9.75",
         "-2.3899999999999997",
         "-5.6499999999999995",
         "-16.810000000000002"
        ],
        [
         "2007-04-30 00:00:00",
         "-4.619999999999999",
         "-9.75",
         "-2.3899999999999997",
         "-5.6499999999999995",
         "-16.810000000000002"
        ],
        [
         "2007-05-31 00:00:00",
         "-4.619999999999999",
         "-9.75",
         "-2.3899999999999997",
         "-5.6499999999999995",
         "-16.810000000000002"
        ],
        [
         "2007-06-29 00:00:00",
         "-4.31",
         "-9.84",
         "-2.25",
         "-5.71",
         "-16.65"
        ],
        [
         "2007-07-31 00:00:00",
         "-4.31",
         "-9.84",
         "-2.25",
         "-5.71",
         "-16.65"
        ],
        [
         "2007-08-31 00:00:00",
         "-4.31",
         "-9.84",
         "-2.25",
         "-5.71",
         "-16.65"
        ],
        [
         "2007-09-28 00:00:00",
         "-4.2299999999999995",
         "-9.73",
         "-1.6099999999999999",
         "-5.4799999999999995",
         "-16.08"
        ],
        [
         "2007-10-31 00:00:00",
         "-4.2299999999999995",
         "-9.73",
         "-1.6099999999999999",
         "-5.4799999999999995",
         "-16.08"
        ],
        [
         "2007-11-30 00:00:00",
         "-4.2299999999999995",
         "-9.73",
         "-1.6099999999999999",
         "-5.4799999999999995",
         "-16.08"
        ],
        [
         "2007-12-31 00:00:00",
         "-3.9799999999999995",
         "-9.52",
         "-1.1599999999999997",
         "-4.97",
         "-13.27"
        ],
        [
         "2008-01-31 00:00:00",
         "-3.9799999999999995",
         "-9.52",
         "-1.1599999999999997",
         "-4.97",
         "-13.27"
        ],
        [
         "2008-02-29 00:00:00",
         "-3.9799999999999995",
         "-9.52",
         "-1.1599999999999997",
         "-4.97",
         "-13.27"
        ],
        [
         "2008-03-31 00:00:00",
         "-3.42",
         "-9.309999999999999",
         "-1.17",
         "-4.35",
         "-11.5"
        ],
        [
         "2008-04-30 00:00:00",
         "-3.42",
         "-9.309999999999999",
         "-1.17",
         "-4.35",
         "-11.5"
        ],
        [
         "2008-05-30 00:00:00",
         "-3.42",
         "-9.309999999999999",
         "-1.17",
         "-4.35",
         "-11.5"
        ],
        [
         "2008-06-30 00:00:00",
         "-3.61",
         "-8.780000000000001",
         "-0.69",
         "-3.82",
         "-10.24"
        ],
        [
         "2008-07-31 00:00:00",
         "-3.61",
         "-8.780000000000001",
         "-0.69",
         "-3.82",
         "-10.24"
        ],
        [
         "2008-08-29 00:00:00",
         "-3.61",
         "-8.780000000000001",
         "-0.69",
         "-3.82",
         "-10.24"
        ],
        [
         "2008-09-30 00:00:00",
         "-2.9000000000000004",
         "-8.24",
         "-0.9200000000000004",
         "-3.47",
         "-6.800000000000001"
        ],
        [
         "2008-10-31 00:00:00",
         "-2.9000000000000004",
         "-8.24",
         "-0.9200000000000004",
         "-3.47",
         "-6.800000000000001"
        ],
        [
         "2008-11-28 00:00:00",
         "-2.9000000000000004",
         "-8.24",
         "-0.9200000000000004",
         "-3.47",
         "-6.800000000000001"
        ],
        [
         "2008-12-31 00:00:00",
         "-2.29",
         "-7.57",
         "-0.8900000000000001",
         "-3.3899999999999997",
         "-5.98"
        ],
        [
         "2009-01-30 00:00:00",
         "-2.29",
         "-7.57",
         "-0.8900000000000001",
         "-3.3899999999999997",
         "-5.98"
        ],
        [
         "2009-02-27 00:00:00",
         "-2.29",
         "-7.57",
         "-0.8900000000000001",
         "-3.3899999999999997",
         "-5.98"
        ],
        [
         "2009-03-31 00:00:00",
         "-2.3200000000000003",
         "-6.279999999999999",
         "-0.21999999999999975",
         "-3.04",
         "-4.36"
        ],
        [
         "2009-04-30 00:00:00",
         "-2.3200000000000003",
         "-6.279999999999999",
         "-0.21999999999999975",
         "-3.04",
         "-4.36"
        ],
        [
         "2009-05-29 00:00:00",
         "-2.3200000000000003",
         "-6.279999999999999",
         "-0.21999999999999975",
         "-3.04",
         "-4.36"
        ],
        [
         "2009-06-30 00:00:00",
         "-1.62",
         "-5.6899999999999995",
         "0.2799999999999998",
         "-2.7",
         "-4.26"
        ],
        [
         "2009-07-31 00:00:00",
         "-1.62",
         "-5.6899999999999995",
         "0.2799999999999998",
         "-2.7",
         "-4.26"
        ],
        [
         "2009-08-31 00:00:00",
         "-1.62",
         "-5.6899999999999995",
         "0.2799999999999998",
         "-2.7",
         "-4.26"
        ],
        [
         "2009-09-30 00:00:00",
         "-1.34",
         "-5.25",
         "0.54",
         "-2.7",
         "-6.04"
        ],
        [
         "2009-10-30 00:00:00",
         "-1.34",
         "-5.25",
         "0.54",
         "-2.7",
         "-6.04"
        ],
        [
         "2009-11-30 00:00:00",
         "-1.34",
         "-5.25",
         "0.54",
         "-2.7",
         "-6.04"
        ],
        [
         "2009-12-31 00:00:00",
         "-1.03",
         "-5.390000000000001",
         "0.4299999999999997",
         "-2.79",
         "-8.290000000000001"
        ],
        [
         "2010-01-29 00:00:00",
         "-1.03",
         "-5.390000000000001",
         "0.4299999999999997",
         "-2.79",
         "-8.290000000000001"
        ],
        [
         "2010-02-26 00:00:00",
         "-1.03",
         "-5.390000000000001",
         "0.4299999999999997",
         "-2.79",
         "-8.290000000000001"
        ]
       ],
       "shape": {
        "columns": 5,
        "rows": 235
       }
      },
      "text/html": [
       "<div>\n",
       "<style scoped>\n",
       "    .dataframe tbody tr th:only-of-type {\n",
       "        vertical-align: middle;\n",
       "    }\n",
       "\n",
       "    .dataframe tbody tr th {\n",
       "        vertical-align: top;\n",
       "    }\n",
       "\n",
       "    .dataframe thead th {\n",
       "        text-align: right;\n",
       "    }\n",
       "</style>\n",
       "<table border=\"1\" class=\"dataframe\">\n",
       "  <thead>\n",
       "    <tr style=\"text-align: right;\">\n",
       "      <th></th>\n",
       "      <th>USIN</th>\n",
       "      <th>USJPN</th>\n",
       "      <th>USUK</th>\n",
       "      <th>USEU</th>\n",
       "      <th>USSZR</th>\n",
       "    </tr>\n",
       "    <tr>\n",
       "      <th>Date</th>\n",
       "      <th></th>\n",
       "      <th></th>\n",
       "      <th></th>\n",
       "      <th></th>\n",
       "      <th></th>\n",
       "    </tr>\n",
       "  </thead>\n",
       "  <tbody>\n",
       "    <tr>\n",
       "      <th>2006-01-31</th>\n",
       "      <td>-4.49</td>\n",
       "      <td>-9.30</td>\n",
       "      <td>-3.34</td>\n",
       "      <td>-5.24</td>\n",
       "      <td>-16.91</td>\n",
       "    </tr>\n",
       "    <tr>\n",
       "      <th>2006-02-28</th>\n",
       "      <td>-4.49</td>\n",
       "      <td>-9.30</td>\n",
       "      <td>-3.34</td>\n",
       "      <td>-5.24</td>\n",
       "      <td>-16.91</td>\n",
       "    </tr>\n",
       "    <tr>\n",
       "      <th>2006-03-31</th>\n",
       "      <td>-4.49</td>\n",
       "      <td>-9.30</td>\n",
       "      <td>-3.34</td>\n",
       "      <td>-5.24</td>\n",
       "      <td>-16.91</td>\n",
       "    </tr>\n",
       "    <tr>\n",
       "      <th>2006-04-28</th>\n",
       "      <td>-4.49</td>\n",
       "      <td>-9.30</td>\n",
       "      <td>-3.34</td>\n",
       "      <td>-5.24</td>\n",
       "      <td>-16.91</td>\n",
       "    </tr>\n",
       "    <tr>\n",
       "      <th>2006-05-31</th>\n",
       "      <td>-4.49</td>\n",
       "      <td>-9.30</td>\n",
       "      <td>-3.34</td>\n",
       "      <td>-5.24</td>\n",
       "      <td>-16.91</td>\n",
       "    </tr>\n",
       "    <tr>\n",
       "      <th>...</th>\n",
       "      <td>...</td>\n",
       "      <td>...</td>\n",
       "      <td>...</td>\n",
       "      <td>...</td>\n",
       "      <td>...</td>\n",
       "    </tr>\n",
       "    <tr>\n",
       "      <th>2025-03-31</th>\n",
       "      <td>-4.00</td>\n",
       "      <td>-9.52</td>\n",
       "      <td>-1.71</td>\n",
       "      <td>-6.98</td>\n",
       "      <td>-10.82</td>\n",
       "    </tr>\n",
       "    <tr>\n",
       "      <th>2025-04-30</th>\n",
       "      <td>-4.00</td>\n",
       "      <td>-9.52</td>\n",
       "      <td>-1.71</td>\n",
       "      <td>-6.98</td>\n",
       "      <td>-10.82</td>\n",
       "    </tr>\n",
       "    <tr>\n",
       "      <th>2025-05-30</th>\n",
       "      <td>-4.00</td>\n",
       "      <td>-9.52</td>\n",
       "      <td>-1.71</td>\n",
       "      <td>-6.98</td>\n",
       "      <td>-10.82</td>\n",
       "    </tr>\n",
       "    <tr>\n",
       "      <th>2025-06-30</th>\n",
       "      <td>-4.00</td>\n",
       "      <td>-9.52</td>\n",
       "      <td>-1.71</td>\n",
       "      <td>-6.98</td>\n",
       "      <td>-10.82</td>\n",
       "    </tr>\n",
       "    <tr>\n",
       "      <th>2025-07-01</th>\n",
       "      <td>-4.00</td>\n",
       "      <td>-9.52</td>\n",
       "      <td>-1.71</td>\n",
       "      <td>-6.98</td>\n",
       "      <td>-10.82</td>\n",
       "    </tr>\n",
       "  </tbody>\n",
       "</table>\n",
       "<p>235 rows × 5 columns</p>\n",
       "</div>"
      ],
      "text/plain": [
       "            USIN  USJPN  USUK  USEU  USSZR\n",
       "Date                                      \n",
       "2006-01-31 -4.49  -9.30 -3.34 -5.24 -16.91\n",
       "2006-02-28 -4.49  -9.30 -3.34 -5.24 -16.91\n",
       "2006-03-31 -4.49  -9.30 -3.34 -5.24 -16.91\n",
       "2006-04-28 -4.49  -9.30 -3.34 -5.24 -16.91\n",
       "2006-05-31 -4.49  -9.30 -3.34 -5.24 -16.91\n",
       "...          ...    ...   ...   ...    ...\n",
       "2025-03-31 -4.00  -9.52 -1.71 -6.98 -10.82\n",
       "2025-04-30 -4.00  -9.52 -1.71 -6.98 -10.82\n",
       "2025-05-30 -4.00  -9.52 -1.71 -6.98 -10.82\n",
       "2025-06-30 -4.00  -9.52 -1.71 -6.98 -10.82\n",
       "2025-07-01 -4.00  -9.52 -1.71 -6.98 -10.82\n",
       "\n",
       "[235 rows x 5 columns]"
      ]
     },
     "execution_count": 9,
     "metadata": {},
     "output_type": "execute_result"
    }
   ],
   "source": [
    "#function to calculate all the differentials\n",
    "countries = ['US','IN', 'JPN','UK','EU', 'SZR']\n",
    "def calculate_differentials(df, df_new):\n",
    "        for j in range(1, len(countries)):\n",
    "            country1 = countries[0]\n",
    "            country2 = countries[j]\n",
    "            swap_name = f\"{country1}{country2}\"\n",
    "            df_new[swap_name] = df[country1] - df[country2]\n",
    "        df_new['Date'] = df['Date']\n",
    "        df_new.set_index('Date', inplace=True)\n",
    "        return df_new\n",
    "calculate_differentials(Inflation_raw, Inflation_diff)\n",
    "calculate_differentials(Interest_Raw, Interest_diff)\n",
    "calculate_differentials(Current_account_raw, Current_account_diff)\n",
    "\n"
   ]
  },
  {
   "cell_type": "code",
   "execution_count": 10,
   "id": "1645bca4",
   "metadata": {},
   "outputs": [],
   "source": [
    "#function to round all the values in the dataframe to 2 decimal places\n",
    "def round_dataframe(df):\n",
    "    for col in df.columns:\n",
    "\n",
    "        if not col == 'Date':\n",
    "            df = df.round(2)\n",
    "    return df\n",
    "Inflation_diff = round_dataframe(Inflation_diff)\n",
    "Interest_diff = round_dataframe(Interest_diff)\n",
    "Current_account_diff = round_dataframe(Current_account_diff)\n",
    "\n"
   ]
  },
  {
   "cell_type": "code",
   "execution_count": 11,
   "id": "d9ddb6f5",
   "metadata": {},
   "outputs": [],
   "source": [
    "#renaming the swaps\n",
    "def rename_swaps(df):\n",
    "    df.rename(columns={\n",
    "        'USIN': 'USDINR',\n",
    "        'USJPN': 'USDJPY',\n",
    "        'USUK': 'USDGBP',\n",
    "        'USEU': 'USDEUR',\n",
    "        'USSZR': 'USDCHF',\n",
    "    }, inplace=True)\n",
    "\n",
    "rename_swaps(Inflation_diff)\n",
    "rename_swaps(Interest_diff)\n",
    "rename_swaps(Current_account_diff)\n"
   ]
  },
  {
   "cell_type": "code",
   "execution_count": 12,
   "id": "6a4d3fb5",
   "metadata": {},
   "outputs": [],
   "source": [
    "#adding an index to the dataframes by converting it back to string format\n",
    "Inflation_diff.index = Inflation_diff.index.strftime('%Y-%m')\n",
    "Interest_diff.index = Interest_diff.index.strftime('%Y-%m')\n",
    "Current_account_diff.index = Current_account_diff.index.strftime('%Y-%m')\n"
   ]
  },
  {
   "cell_type": "code",
   "execution_count": 13,
   "id": "4bccb8b7",
   "metadata": {},
   "outputs": [],
   "source": [
    "#downloading the dataframes as csv files\n",
    "Inflation_diff.to_csv('Inflation_diff.csv')\n",
    "Interest_diff.to_csv('Interest_diff.csv')\n",
    "Current_account_diff.to_csv('Current_account_diff.csv')\n"
   ]
  }
 ],
 "metadata": {
  "kernelspec": {
   "display_name": "Python 3",
   "language": "python",
   "name": "python3"
  },
  "language_info": {
   "codemirror_mode": {
    "name": "ipython",
    "version": 3
   },
   "file_extension": ".py",
   "mimetype": "text/x-python",
   "name": "python",
   "nbconvert_exporter": "python",
   "pygments_lexer": "ipython3",
   "version": "3.12.1"
  }
 },
 "nbformat": 4,
 "nbformat_minor": 5
}
